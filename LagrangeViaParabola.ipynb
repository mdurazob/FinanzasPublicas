{
  "nbformat": 4,
  "nbformat_minor": 0,
  "metadata": {
    "colab": {
      "name": "LagrangeViaParabola.ipynb",
      "provenance": [],
      "collapsed_sections": [],
      "authorship_tag": "ABX9TyN0mDGnT8e8LoczT9bIrLfU",
      "include_colab_link": true
    },
    "kernelspec": {
      "name": "python3",
      "display_name": "Python 3"
    }
  },
  "cells": [
    {
      "cell_type": "markdown",
      "metadata": {
        "id": "view-in-github",
        "colab_type": "text"
      },
      "source": [
        "<a href=\"https://colab.research.google.com/github/mdurazob/FinanzasPublicas/blob/master/LagrangeViaParabola.ipynb\" target=\"_parent\"><img src=\"https://colab.research.google.com/assets/colab-badge.svg\" alt=\"Open In Colab\"/></a>"
      ]
    },
    {
      "cell_type": "code",
      "metadata": {
        "id": "UHjitdXkmNec",
        "colab_type": "code",
        "colab": {}
      },
      "source": [
        "import numpy as np\n",
        "import matplotlib.pyplot as plt\n",
        "import scipy.interpolate\n"
      ],
      "execution_count": 2,
      "outputs": []
    },
    {
      "cell_type": "markdown",
      "metadata": {
        "id": "eigazO511Wfy",
        "colab_type": "text"
      },
      "source": [
        "**Polinomio de ingresos presupuestarios**"
      ]
    },
    {
      "cell_type": "code",
      "metadata": {
        "id": "JLow6OblmZRc",
        "colab_type": "code",
        "colab": {
          "base_uri": "https://localhost:8080/",
          "height": 418
        },
        "outputId": "2c57c632-126f-450f-d3da-15759164a517"
      },
      "source": [
        "x = np.array([1,\t2,\t3,\t4,\t5])\n",
        "y = np.array([194589, 177748, 237867, 280966, 346783])\n",
        "u = plt.plot(x,y,'ro') # plot the points\n",
        "t = np.linspace(0, 1, len(x)) # parameter t to parametrize x and y\n",
        "pxLagrange = scipy.interpolate.lagrange(t, x) # X(T)\n",
        "pyLagrange = scipy.interpolate.lagrange(t, y) # Y(T)\n",
        "n = 100\n",
        "ts = np.linspace(t[0],t[-1],n)\n",
        "xLagrange = pxLagrange(ts) # lagrange x coordinates\n",
        "yLagrange = pyLagrange(ts) # lagrange y coordinates\n",
        "plt.plot(xLagrange, yLagrange,'b-',label = \"Polynomial\")\n",
        "plt.show()\n",
        "\n",
        "# calculating coefficients\n",
        "M = [[_x**i*(-1)**(i*len(x)) for _x in x] for i in range(len(x))]\n",
        "C = [np.linalg.det((M+[y]+M)[d:d+len(x)]) for d in range(len(x)+1)]\n",
        "C = (C / C[0] * (-1)**(len(x)+1) )[1:]\n",
        "# polynomial lambda-function\n",
        "poly = lambda _x: sum([C[i] * _x**i for i in range(len(x))])\n",
        "# output and tests\n",
        "print(\"Coefficients:\\n\", C)\n",
        "print(\"TESTING:\")\n",
        "for _x, _y in zip(x, y):\n",
        "    result = \"[OK]\" if np.allclose(_y, poly(_x)) else \"[ERROR]\"\n",
        "    print(_x, \" mapped to: \", poly(_x), \" ; expected: \", _y, result)\n"
      ],
      "execution_count": 53,
      "outputs": [
        {
          "output_type": "display_data",
          "data": {
            "image/png": "[encoded data removed]",
            "text/plain": [
              "<Figure size 432x288 with 1 Axes>"
            ]
          },
          "metadata": {
            "tags": [],
            "needs_background": "light"
          }
        },
        {
          "output_type": "stream",
          "text": [
            "Coefficients:\n",
            " [ 516088.         -583156.83333333  327465.41666666  -71379.16666667\n",
            "    5571.58333333]\n",
            "TESTING:\n",
            "1  mapped to:  194589.00000000137  ; expected:  194589 [OK]\n",
            "2  mapped to:  177747.99999999744  ; expected:  177748 [OK]\n",
            "3  mapped to:  237866.99999998993  ; expected:  237867 [OK]\n",
            "4  mapped to:  280965.9999999779  ; expected:  280966 [OK]\n",
            "5  mapped to:  346782.99999996135  ; expected:  346783 [OK]\n"
          ],
          "name": "stdout"
        }
      ]
    },
    {
      "cell_type": "code",
      "metadata": {
        "id": "_3zzNNrF_1VW",
        "colab_type": "code",
        "colab": {}
      },
      "source": [
        ""
      ],
      "execution_count": null,
      "outputs": []
    },
    {
      "cell_type": "code",
      "metadata": {
        "id": "wjSWyqtE1ydN",
        "colab_type": "code",
        "colab": {
          "base_uri": "https://localhost:8080/",
          "height": 119
        },
        "outputId": "62324b3f-00d9-4cc1-8301-da721fea4670"
      },
      "source": [
        "# numpy.polyder() \n",
        "    \n",
        "# importing libraries \n",
        "import numpy as np \n",
        "import pandas as pd \n",
        "  \n",
        "# Constructing polynomial  \n",
        "p1 = np.poly1d([1, 2])  \n",
        "p2 = np.poly1d([516088, -583156, 327465, -71379, 5571])  \n",
        "    \n",
        "print (\"P1 : \", p1)  \n",
        "print (\"\\n p2 : \\n\", p2)  "
      ],
      "execution_count": 54,
      "outputs": [
        {
          "output_type": "stream",
          "text": [
            "P1 :   \n",
            "1 x + 2\n",
            "\n",
            " p2 : \n",
            "            4             3             2\n",
            "5.161e+05 x - 5.832e+05 x + 3.275e+05 x - 7.138e+04 x + 5571\n"
          ],
          "name": "stdout"
        }
      ]
    },
    {
      "cell_type": "code",
      "metadata": {
        "id": "0PdX0uJJAjbF",
        "colab_type": "code",
        "colab": {
          "base_uri": "https://localhost:8080/",
          "height": 85
        },
        "outputId": "72b0d0c0-0324-4644-dd0c-06b5c58be7e3"
      },
      "source": [
        "# Solve for x = 2  \n",
        "print (\"\\n\\np1 at x = 2 : \", p1(2))  \n",
        "print (\"p2 at x = 2 : \", p2(1))  "
      ],
      "execution_count": 56,
      "outputs": [
        {
          "output_type": "stream",
          "text": [
            "\n",
            "\n",
            "p1 at x = 2 :  4\n",
            "p2 at x = 2 :  194589\n"
          ],
          "name": "stdout"
        }
      ]
    },
    {
      "cell_type": "code",
      "metadata": {
        "id": "OdKeUYFGLDsm",
        "colab_type": "code",
        "colab": {}
      },
      "source": [
        ""
      ],
      "execution_count": null,
      "outputs": []
    },
    {
      "cell_type": "code",
      "metadata": {
        "id": "LBiuYYnHINEX",
        "colab_type": "code",
        "colab": {
          "base_uri": "https://localhost:8080/",
          "height": 34
        },
        "outputId": "d98e0ce8-2416-4392-f2e8-90639b78ff39"
      },
      "source": [
        "0.5 * (257495801 - 194590) # average of derivatives of ingresos presupuestarios\n"
      ],
      "execution_count": 57,
      "outputs": [
        {
          "output_type": "execute_result",
          "data": {
            "text/plain": [
              "128650605.5"
            ]
          },
          "metadata": {
            "tags": []
          },
          "execution_count": 57
        }
      ]
    },
    {
      "cell_type": "code",
      "metadata": {
        "id": "RDEvL56iLD6l",
        "colab_type": "code",
        "colab": {}
      },
      "source": [
        "#Segunda derivada\n",
        "x = numpy.linspace(0,10,1000)\n",
        "dx = x[1]-x[0]\n",
        "y = x**2 + 1\n",
        "dydx = numpy.gradient(y, dx)"
      ],
      "execution_count": null,
      "outputs": []
    },
    {
      "cell_type": "markdown",
      "metadata": {
        "id": "gpK5C9CD1dJR",
        "colab_type": "text"
      },
      "source": [
        "\n",
        "**Polinomio de deuda pública**"
      ]
    },
    {
      "cell_type": "code",
      "metadata": {
        "id": "faoHy9ggAinJ",
        "colab_type": "code",
        "colab": {}
      },
      "source": [
        ""
      ],
      "execution_count": null,
      "outputs": []
    },
    {
      "cell_type": "code",
      "metadata": {
        "id": "lfFkhvYYJFrM",
        "colab_type": "code",
        "colab": {}
      },
      "source": [
        ""
      ],
      "execution_count": null,
      "outputs": []
    },
    {
      "cell_type": "code",
      "metadata": {
        "id": "86PBgBXo0k4m",
        "colab_type": "code",
        "colab": {
          "base_uri": "https://localhost:8080/",
          "height": 429
        },
        "outputId": "bd760e63-3656-4c77-830f-873094a330ab"
      },
      "source": [
        "x = np.array([1,\t2,\t3,\t4,\t5])\n",
        "y = np.array([1270775, 1848604, 3484341, 5514284, 6606075])\n",
        "u = plt.plot(x,y,'ro') # plot the points\n",
        "t = np.linspace(0, 1, len(x)) # parameter t to parametrize x and y\n",
        "pxLagrange = scipy.interpolate.lagrange(t, x) # X(T)\n",
        "pyLagrange = scipy.interpolate.lagrange(t, y) # Y(T)\n",
        "n = 100\n",
        "ts = np.linspace(t[0],t[-1],n)\n",
        "xLagrange = pxLagrange(ts) # lagrange x coordinates\n",
        "yLagrange = pyLagrange(ts) # lagrange y coordinates\n",
        "plt.plot(xLagrange, yLagrange,'b-',label = \"Polynomial\")\n",
        "plt.show()\n",
        "\n",
        "# calculating coefficients\n",
        "M = [[_x**i*(-1)**(i*len(x)) for _x in x] for i in range(len(x))]\n",
        "C = [np.linalg.det((M+[y]+M)[d:d+len(x)]) for d in range(len(x)+1)]\n",
        "C = (C / C[0] * (-1)**(len(x)+1) )[1:]\n",
        "# polynomial lambda-function\n",
        "poly = lambda _x: sum([C[i] * _x**i for i in range(len(x))])\n",
        "# output and tests\n",
        "print(\"Coefficients:\\n\", C)\n",
        "print(\"TESTING:\")\n",
        "for _x, _y in zip(x, y):\n",
        "    result = \"[OK]\" if np.allclose(_y, poly(_x)) else \"[ERROR]\"\n",
        "    print(_x, \" mapped to: \", poly(_x), \" ; expected: \", _y, result)"
      ],
      "execution_count": 23,
      "outputs": [
        {
          "output_type": "display_data",
          "data": {
            "image/png": "[encoded data removed]",
            "text/plain": [
              "<Figure size 432x288 with 1 Axes>"
            ]
          },
          "metadata": {
            "tags": [],
            "needs_background": "light"
          }
        },
        {
          "output_type": "stream",
          "text": [
            "Coefficients:\n",
            " [1745900.00000002 -832786.66666668  217532.66666667  167989.66666666\n",
            "  -27860.66666667]\n",
            "TESTING:\n",
            "1  mapped to:  1270775.0000000065  ; expected:  1270775 [OK]\n",
            "2  mapped to:  1848603.9999999919  ; expected:  1848604 [OK]\n",
            "3  mapped to:  3484340.999999944  ; expected:  3484341 [OK]\n",
            "4  mapped to:  5514283.999999833  ; expected:  5514284 [OK]\n",
            "5  mapped to:  6606074.99999962  ; expected:  6606075 [OK]\n"
          ],
          "name": "stdout"
        }
      ]
    },
    {
      "cell_type": "code",
      "metadata": {
        "id": "HBBtfzgtJF1B",
        "colab_type": "code",
        "colab": {
          "base_uri": "https://localhost:8080/",
          "height": 187
        },
        "outputId": "a6833ab9-9909-4b3f-bfd9-44d22d531acb"
      },
      "source": [
        "p1 = np.poly1d([1, 2])  \n",
        "p2 = np.poly1d([1270775, 1848603, 3484340, 5514283, 6606074])  \n",
        "    \n",
        "print (\"P1 : \", p1)  \n",
        "print (\"\\n p2 : \\n\", p2)  \n",
        "\n",
        "print (\"\\n\\np1 at x = 2 : \", p1(2))  \n",
        "print (\"p2 at x = 2 : \", p2(5))  "
      ],
      "execution_count": 52,
      "outputs": [
        {
          "output_type": "stream",
          "text": [
            "P1 :   \n",
            "1 x + 2\n",
            "\n",
            " p2 : \n",
            "            4             3             2\n",
            "1.271e+06 x + 1.849e+06 x + 3.484e+06 x + 5.514e+06 x + 6.606e+06\n",
            "\n",
            "\n",
            "p1 at x = 2 :  4\n",
            "p2 at x = 2 :  1146595739\n"
          ],
          "name": "stdout"
        }
      ]
    },
    {
      "cell_type": "code",
      "metadata": {
        "id": "G3nL4x9BJb6v",
        "colab_type": "code",
        "colab": {
          "base_uri": "https://localhost:8080/",
          "height": 34
        },
        "outputId": "8a15f777-64cc-4192-e232-c3835a000afa"
      },
      "source": [
        "0.5 * (1146595739 - 18724075) # average of derivatives of deudapublica\n",
        "## Average de deuda es 4 veces mas grande"
      ],
      "execution_count": 51,
      "outputs": [
        {
          "output_type": "execute_result",
          "data": {
            "text/plain": [
              "563935832.0"
            ]
          },
          "metadata": {
            "tags": []
          },
          "execution_count": 51
        }
      ]
    }
  ]
}